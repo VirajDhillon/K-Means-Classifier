{
 "cells": [
  {
   "cell_type": "markdown",
   "metadata": {},
   "source": [
    "# Assignment 3\n",
    "\n",
    "### Credit for  Assignment 3: \n",
    "\n",
    "In this assignment we will implement the K-means clustering algorithm. We are going to use the same dataset as in the previous two assignments (<b>Note</b>: make sure you copy the dataset from Assignment 1 to the folder of this assignment!)."
   ]
  },
  {
   "cell_type": "code",
   "execution_count": 2,
   "metadata": {},
   "outputs": [],
   "source": [
    "import numpy as np\n",
    "import matplotlib.pyplot as plt\n",
    "import seaborn as sb\n",
    "import random as rand\n",
    "from sklearn.model_selection import train_test_split\n",
    "\n",
    "\n",
    "data_names = ['sepal_length', 'sepal_width', 'petal_length', 'petal_width', 'label']\n",
    "data = pd.read_csv('iris.data', \n",
    "                   names = data_names)\n",
    "\n",
    "\n"
   ]
  },
  {
   "cell_type": "markdown",
   "metadata": {},
   "source": [
    "## Question 1: Implementing and testing K-means clustering \n",
    "### Question 1a: Implementing K-Means clustering \n",
    "In this question you should implement a function that performs k-means clustering, using the Euclidean distance (you may use Numpy libraries for the distance computation). For calculation of the centroid you should use the 'mean' function.\n",
    "\n",
    "For uniformity, you should implement a function with the following specifications:\n",
    "```python\n",
    "def kmeans_clustering(all_vals,K,max_iter = 100, tol = pow(10,-3) ):\n",
    "```\n",
    "where 1) 'all_vals' is the $N \\times M$ matrix that contains all data points ($N$ is the number of data points and $M$ is the number of features, each row of the matrix is a data point), 2) 'K' is the number of clusters, 3) 'max_iter' is the maxium number of iterations, and 4) 'tol' is the tolerance for the change of the sum of squares of errors that determines convergence.\n",
    "\n",
    "Your function should return the following variables: 1) 'assignments': this is a $N\\times 1$ vector (where $N$ is the number of data points) where the $i$-th position of that vector contains the cluster number that the $i$-th data point is assigned to, 2) 'centroids': this is a $K\\times M$ matrix, each row of which contains the centroid for every cluster, 3) 'all_sse': this is a vector that contains all the sum of squares of errors per iteration of the algorithm, and 4) 'iters': this is the number of iterations that the algorithm ran.\n",
    "\n",
    "Here we are going to implement the simplest version of K-means, where the initial centroids are chosen entirely at random among all the data points.\n",
    "\n",
    "As we saw in class, the K-means algorithm iterates over the following steps:\n",
    "- Given a set of centroids, assign all data points to the cluster represented by its nearest centroid (according to Euclidean distance)\n",
    "- Given a set of assignments of points to clusters, compute the new centroids for every cluster, by taking the mean of all the points assigned to each cluster.\n",
    "\n",
    "Your algorithm should converge if 1) the maximum number of iteratiosn is reached, or 2) if the SSE between two consecutive iterations does not change a lot (as in the gradient descent for linear regression we saw in Assignment 2). In order to check for the latter condition, you may use the following piece of code:\n",
    "```python\n",
    "if np.absolute(all_sse[it] - all_sse[it-1])/all_sse[it-1] <= tol\n",
    "```\n",
    "\n",
    "In order to calculate the SSE (sum of squares of error) first you need to define what an 'error' is. In k-means, error per data point refers to the Euclidean distance of that particular point from its assigned centroid. SSE sums up all those squared Euclidean distances for all data points and comes up with a number that reflects the total error of approximating every data points by its assigned centroid.\n",
    "\n",
    "\n"
   ]
  },
  {
   "cell_type": "code",
   "execution_count": 3,
   "metadata": {},
   "outputs": [
    {
     "name": "stdout",
     "output_type": "stream",
     "text": [
      "Assignments: [0, 0, 0, 0, 0, 0, 0, 0, 0, 0, 0, 0, 0, 0, 0, 0, 0, 0, 0, 0, 0, 0, 0, 0, 0, 0, 0, 0, 0, 0, 0, 0, 0, 0, 0, 0, 0, 0, 0, 0, 0, 0, 0, 0, 0, 0, 0, 0, 0, 0, 2, 1, 2, 1, 1, 1, 1, 1, 1, 1, 1, 1, 1, 1, 1, 1, 1, 1, 1, 1, 1, 1, 1, 1, 1, 1, 2, 2, 1, 1, 1, 1, 1, 1, 1, 1, 1, 1, 1, 1, 1, 1, 1, 1, 1, 1, 1, 1, 0, 1, 2, 1, 2, 2, 2, 2, 1, 2, 2, 2, 2, 2, 2, 1, 1, 2, 2, 2, 2, 1, 2, 1, 2, 1, 2, 2, 1, 1, 2, 2, 2, 2, 2, 2, 2, 2, 2, 2, 1, 2, 2, 2, 1, 2, 2, 2, 1, 2, 2, 1]\n",
      "Cluster points: [array([5.00784314, 1.49411765]), array([5.87413793, 4.39310345]), array([6.83902439, 5.67804878])]\n",
      "All_sse: [82.35808081187758, 77.96586908685626, 76.76437546561283, 76.40558264691741, 76.36119705467418]\n",
      "iterations: 5\n"
     ]
    }
   ],
   "source": [
    "#Referenced: https://www.youtube.com/watch?v=9991JlKnFmk&t=624s\n",
    "from numpy import random\n",
    "from numpy import array\n",
    "from numpy import vstack\n",
    "from random import *\n",
    "import operator as op\n",
    "\n",
    "#k-means clustering\n",
    "def kmeans_clustering(all_vals, K, max_iter = 100, tol = pow(10,-3) ):\n",
    "    randomCluster = []\n",
    "    \n",
    "    #now have random centroid for K centroid \n",
    "    for i in range(K):\n",
    "        rand = randint(1, 149)\n",
    "        randomCluster.append(all_vals[rand])\n",
    "    #now have random centroid for K centroid \n",
    "    clusterBelong = []\n",
    "    assignments = []\n",
    "    eucArray = []\n",
    "    all_sse = []\n",
    "    i = 0\n",
    "    \n",
    "    while i < max_iter:\n",
    "        for index in range(150):\n",
    "            distance_vec = [] #distance Vector with size of k (2 in our example)\n",
    "            distancePoint = all_vals[index]\n",
    "    \n",
    "            for y in range(len(randomCluster)):\n",
    "                distance_vec.append(euclidian(distancePoint, randomCluster[y])) #compute the distance between the  #cluster point and distance points\n",
    "            preSorted = distance_vec\n",
    "            #print(index)\n",
    "           # print(preSorted)\n",
    "            minIndex = (preSorted.index((min(preSorted))))\n",
    "            eucArray.append(distance_vec[minIndex]) #gets error/ distance from point to assigned centroid\n",
    "            \n",
    "            clusterBelong.append(((distance_vec[minIndex], distancePoint, minIndex))) #found smallest distance and minIndex is also index of the clustering point too \n",
    "            assignments.append(minIndex)\n",
    "        closeByPoints = []\n",
    "        z = 0\n",
    "        \n",
    "        for index in range(K):\n",
    "            for z in range(150):\n",
    "                if(clusterBelong[z][2] == index):\n",
    "                    closeByPoints.append(clusterBelong[z][1])\n",
    "            meanPoints = np.mean(closeByPoints, axis = 0)\n",
    "            randomCluster[index] = meanPoints\n",
    "            closeByPoints.clear()  \n",
    "        clusterBelong.clear()\n",
    "        all_sse.append(np.sum(eucArray))\n",
    "        eucArray.clear()\n",
    "        if(i > 1):\n",
    "            if (np.absolute(all_sse[i] - all_sse[i-1])/all_sse[i-1] <= tol):\n",
    "                return (assignments, randomCluster, all_sse, i+ 1)\n",
    "        i += 1\n",
    "        clusterBelong.clear()\n",
    "        assignments.clear()\n",
    "        \n",
    "def euclidian(a, b):\n",
    "    return np.linalg.norm(a-b)\n",
    "all_vals = data[['sepal_length', 'petal_length']].values\n",
    "\n",
    "assignments, randomCluster, all_sse, i = kmeans_clustering(all_vals, K = 3,max_iter = 100, tol = pow(10,-3))\n",
    "\n",
    "\n",
    "print(\"Assignments:\", assignments)\n",
    "print(\"Cluster points:\", randomCluster)\n",
    "print(\"All_sse:\", all_sse)\n",
    "print(\"iterations:\", i)"
   ]
  },
  {
   "cell_type": "markdown",
   "metadata": {},
   "source": [
    "# Question 1b: Visualizing K-means \n",
    "In this question we wll visualize the result of the K-means algorithm. For ease of visualization, we will focus on a scatterplot of two of the four features of the Iris dataset. In particular: run your K-means code with K=3 and default values for the rest of the inputs. Subsequently, make a single scatterplot that contains all data points of the dataset for features 'sepal_length' and 'petal_length' and color every data point according to its cluster assignment."
   ]
  },
  {
   "cell_type": "code",
   "execution_count": 18,
   "metadata": {
    "scrolled": false
   },
   "outputs": [
    {
     "name": "stdout",
     "output_type": "stream",
     "text": [
      "Assignments: [0, 0, 0, 0, 0, 0, 0, 0, 0, 0, 0, 0, 0, 0, 0, 0, 0, 0, 0, 0, 0, 0, 0, 0, 0, 0, 0, 0, 0, 0, 0, 0, 0, 0, 0, 0, 0, 0, 0, 0, 0, 0, 0, 0, 0, 0, 0, 0, 0, 0, 1, 2, 1, 2, 2, 2, 2, 2, 2, 2, 2, 2, 2, 2, 2, 2, 2, 2, 2, 2, 2, 2, 2, 2, 2, 2, 1, 1, 2, 2, 2, 2, 2, 2, 2, 2, 2, 2, 2, 2, 2, 2, 2, 2, 2, 2, 2, 2, 0, 2, 1, 2, 1, 1, 1, 1, 2, 1, 1, 1, 1, 1, 1, 2, 2, 1, 1, 1, 1, 2, 1, 2, 1, 2, 1, 1, 2, 2, 1, 1, 1, 1, 1, 1, 1, 1, 1, 1, 2, 1, 1, 1, 2, 1, 1, 1, 2, 1, 1, 2]\n",
      "Cluster points: [array([5.00784314, 1.49411765]), array([6.83902439, 5.67804878]), array([5.87413793, 4.39310345])]\n",
      "All_sse: [242.5639066832599, 152.34032317370423, 108.3124828107521, 82.5337948792137, 79.09750175598336, 77.71020993063264, 76.76437546561283, 76.40558264691741, 76.36119705467418]\n",
      "iterations: 9\n"
     ]
    },
    {
     "data": {
      "text/plain": [
       "Text(0, 0.5, 'Petal_Length')"
      ]
     },
     "execution_count": 18,
     "metadata": {},
     "output_type": "execute_result"
    },
    {
     "data": {
      "image/png": "[encoded data removed]",
      "text/plain": [
       "<Figure size 432x288 with 1 Axes>"
      ]
     },
     "metadata": {
      "needs_background": "light"
     },
     "output_type": "display_data"
    }
   ],
   "source": [
    "K  = 3\n",
    "assignments, randomCluster, all_sse, i = kmeans_clustering(all_vals, K = 3,max_iter = 100, tol = pow(10,-3))\n",
    "print(\"Assignments:\", assignments)\n",
    "print(\"Cluster points:\", randomCluster)\n",
    "print(\"All_sse:\", all_sse)\n",
    "print(\"iterations:\", i)\n",
    "\n",
    "colors = ['r', 'g', 'b']\n",
    "fig, ax = plt.subplots()\n",
    "\n",
    "for element in range(150):\n",
    "    ax.scatter(all_vals[element][0], all_vals[element][1], c = colors[assignments[element]])\n",
    "    \n",
    "#print(K)\n",
    "for element in range(K):\n",
    "    ax.scatter(randomCluster[element][0], randomCluster[element][1], c = 'y')\n",
    "\n",
    "plt.xlabel(\"Sepal_Length\")\n",
    "plt.ylabel(\"Petal_Length\")"
   ]
  },
  {
   "cell_type": "markdown",
   "metadata": {},
   "source": [
    "### Question 1c: Testing K-means \n",
    "Selecting the right number of clusters $K$ is a very challenging problem, especially when we don't have some side-information or domain expertise that can help us narrow down a few reasonable values for that parameter. \n",
    "\n",
    "In the absence of any other information, a very useful exercise is to create the plot of SSE (sum of squares of errors) as a function of $K$. Ideally, for a very small $K$, the error will be high (since we are trying to approximate a whole lot of points with a very small number of centroids) and as $K$ increases, the error decreases. However, after a certain value (or a couple of values) for $K$, we will notice diminishing returns, i.e., the error will be decreasing, but not to a great degree. Typically, the value(s) for $K$ where this behavior is observed (the threshold point after which we observe diminishing returns) is usually a good guess for the number of clusters. \n",
    "\n",
    "In this question, we will have to create the SSE vs. K plot for $K = 1\\cdots10$. Furthermore, because K-means uses randomized initialization, we need to do a number of iterations per value of $K$ in order to get a good estimate of the actual SSE (which may not be caused by randomness in the initialization). For this question, you will have to run the entire K-means algorithm to completion, and repeat it 50 different times per $K$, and collect all SSEs. In the figure, you should report the mean SSE per $K$, surrounded by error-bars which will encode the standard deviation."
   ]
  },
  {
   "cell_type": "code",
   "execution_count": 5,
   "metadata": {
    "scrolled": false
   },
   "outputs": [
    {
     "data": {
      "text/plain": [
       "Text(0, 0.5, 'Mean SSE')"
      ]
     },
     "execution_count": 5,
     "metadata": {},
     "output_type": "execute_result"
    },
    {
     "data": {
      "image/png": "[encoded data removed]",
      "text/plain": [
       "<Figure size 432x288 with 1 Axes>"
      ]
     },
     "metadata": {
      "needs_background": "light"
     },
     "output_type": "display_data"
    }
   ],
   "source": [
    "import math\n",
    "i = 0\n",
    "meanSSE = []\n",
    "varianceArray = []\n",
    "stdArray = []\n",
    "assignArray = []\n",
    "totalElements = 0\n",
    "mean = []\n",
    "for K in range(10):\n",
    "    for i in range(50):\n",
    "        all_vals = data[['sepal_length', 'petal_length']].values\n",
    "        assignments, randomCluster, all_sse, x = kmeans_clustering(all_vals, K + 1, max_iter = 100, tol = pow(10,-3))\n",
    "        assignArray.append(all_sse)\n",
    "        totalElements += len(all_sse)\n",
    "        meanSSE.append(np.sum(all_sse))\n",
    "        i += 1\n",
    "    K += 1\n",
    "    meanValue = np.sum(meanSSE)/totalElements\n",
    "    for z in range(len(assignArray)):\n",
    "        for y in range(len(assignArray[z])):\n",
    "            varianceArray.append(pow((assignArray[z][y] - meanValue), 2))\n",
    "    stdArray.append(pow(np.mean(varianceArray), 1/2))\n",
    "    mean.append(meanValue)\n",
    "    meanSSE.clear()\n",
    "    totalElements = 0\n",
    "    assignArray.clear()\n",
    "numArray = []\n",
    "\n",
    "for i in range(10):\n",
    "    numArray.append(i+1)\n",
    "    \n",
    "plt.plot(numArray, mean)\n",
    "plt.errorbar(numArray, mean, yerr = stdArray, fmt = 'o')\n",
    "plt.xlabel('Number of clusters (K)')\n",
    "plt.ylabel('Mean SSE')"
   ]
  },
  {
   "cell_type": "code",
   "execution_count": null,
   "metadata": {},
   "outputs": [],
   "source": []
  }
 ],
 "metadata": {
  "kernelspec": {
   "display_name": "Python 3",
   "language": "python",
   "name": "python3"
  },
  "language_info": {
   "codemirror_mode": {
    "name": "ipython",
    "version": 3
   },
   "file_extension": ".py",
   "mimetype": "text/x-python",
   "name": "python",
   "nbconvert_exporter": "python",
   "pygments_lexer": "ipython3",
   "version": "3.7.3"
  }
 },
 "nbformat": 4,
 "nbformat_minor": 2
}
